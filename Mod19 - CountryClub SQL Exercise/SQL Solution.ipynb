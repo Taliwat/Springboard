{
 "cells": [
  {
   "cell_type": "code",
   "execution_count": 1,
   "metadata": {},
   "outputs": [
    {
     "name": "stdout",
     "output_type": "stream",
     "text": [
      "   bookid  facid  memid       starttime  slots\n",
      "0       0      3      1  7/3/2012 11:00      2\n",
      "1       1      4      1   7/3/2012 8:00      2\n",
      "2       2      6      0  7/3/2012 18:00      2\n",
      "3       3      7      1  7/3/2012 19:00      2\n",
      "4       4      8      1  7/3/2012 10:00      1\n",
      "   memid   surname firstname                       address  zipcode  \\\n",
      "0      0     GUEST     GUEST                         GUEST        0   \n",
      "1      1     Smith    Darren    8 Bloomsbury Close, Boston     4321   \n",
      "2      2     Smith     Tracy  8 Bloomsbury Close, New York     4321   \n",
      "3      3    Rownam       Tim        23 Highway Way, Boston    23423   \n",
      "4      4  Joplette    Janice    20 Crossing Road, New York      234   \n",
      "\n",
      "        telephone  recommendedby        joindate  \n",
      "0  (000) 000-0000            NaN   7/1/2012 0:00  \n",
      "1    555-555-5555            NaN  7/2/2012 12:02  \n",
      "2    555-555-5555            NaN  7/2/2012 12:08  \n",
      "3  (844) 693-0723            NaN   7/3/2012 9:32  \n",
      "4  (833) 942-4710            1.0  7/3/2012 10:25  \n",
      "   facid             name  membercost  guestcost  initialoutlay  \\\n",
      "0      0   Tennis Court 1         5.0       25.0          10000   \n",
      "1      1   Tennis Court 2         5.0       25.0           8000   \n",
      "2      2  Badminton Court         0.0       15.5           4000   \n",
      "3      3     Table Tennis         0.0        5.0            320   \n",
      "4      4   Massage Room 1         9.9       80.0           4000   \n",
      "\n",
      "   monthlymaintenance  \n",
      "0                 200  \n",
      "1                 200  \n",
      "2                  50  \n",
      "3                  10  \n",
      "4                3000  \n"
     ]
    },
    {
     "data": {
      "text/plain": [
       "bookid                int64\n",
       "facid                 int64\n",
       "memid                 int64\n",
       "starttime    datetime64[ns]\n",
       "slots                 int64\n",
       "dtype: object"
      ]
     },
     "execution_count": 1,
     "metadata": {},
     "output_type": "execute_result"
    }
   ],
   "source": [
    "# Bring in necessary libraries\n",
    "import pandas as pd\n",
    "import sqlite3\n",
    "from sqlalchemy import create_engine\n",
    "import datetime\n",
    "\n",
    "# Create a connection to the database\n",
    "conn = sqlite3.connect('database.db')\n",
    "# Create a cursor object\n",
    "cur = conn.cursor()\n",
    "# Read in the 3 csv files that represent the 3 tables for our country club database\n",
    "df_book = pd.read_csv(r'C:\\Users\\ryanm\\Desktop\\Springboard\\Mod19 - CountryClub SQL Exercise\\Bookings.csv')\n",
    "df_mem = pd.read_csv(r'C:\\Users\\ryanm\\Desktop\\Springboard\\Mod19 - CountryClub SQL Exercise\\Members.csv')\n",
    "df_fac = pd.read_csv(r'C:\\Users\\ryanm\\Desktop\\Springboard\\Mod19 - CountryClub SQL Exercise\\Facilities.csv')\n",
    "# Convert the csv files to sql\n",
    "df_book.to_sql('Bookings', conn, if_exists='replace', index = False)\n",
    "df_mem.to_sql('Members', conn, if_exists='replace', index = False)\n",
    "df_fac.to_sql('Facilities', conn, if_exists='replace', index = False)\n",
    "# Create test query to make sure the data was loaded correctly\n",
    "rows = cur.fetchall()\n",
    "for row in rows:\n",
    "    print(row)\n",
    "# Close the connection (when done with ntbk uncomment this line)\n",
    "conn.close()\n",
    "# Print the first 5 rows of each table\n",
    "print(df_book.head())\n",
    "print(df_mem.head())\n",
    "print(df_fac.head())\n",
    "\n",
    "df_book.dtypes\n",
    "# For Q13, we need to convert the starttime column to a datetime object\n",
    "df_book['starttime'] = pd.to_datetime(df_book['starttime'])\n",
    "df_book.dtypes\n"
   ]
  },
  {
   "cell_type": "code",
   "execution_count": 2,
   "metadata": {},
   "outputs": [
    {
     "name": "stdout",
     "output_type": "stream",
     "text": [
      "   facility_name  total_revenue\n",
      "0     Pool Table          270.0\n",
      "1  Snooker Table          240.0\n",
      "2   Table Tennis          180.0\n"
     ]
    }
   ],
   "source": [
    "# Q10: Produce a list of facilities with a total revenue less than 1000.\n",
    "# The output of facility name and total revenue, sorted by revenue. Remember\n",
    "# that there's a different cost for guests and members!\n",
    "cur.execute('SELECT name AS facility_name, total_revenue FROM (SELECT name, SUM(\tCASE WHEN Bookings.memid = 0 THEN Facilities.guestcost * slots ELSE Facilities.membercost * slots END) as total_revenue\tFROM Bookings JOIN Members ON Bookings.memid = Members.memid JOIN Facilities ON Bookings.facid = Facilities.facid GROUP BY name) as Facilities_Revenue WHERE total_revenue < 1000 ORDER BY total_revenue DESC;')\n",
    "column_names = [description[0] for description in cur.description]\n",
    "rows = cur.fetchall()\n",
    "query1 = pd.DataFrame(rows, columns=column_names)\n",
    "print(query1)\n"
   ]
  },
  {
   "cell_type": "code",
   "execution_count": 3,
   "metadata": {},
   "outputs": [
    {
     "name": "stdout",
     "output_type": "stream",
     "text": [
      "      member_lastname member_firstname rec_lastname rec_firstname\n",
      "0               Bader         Florence     Stibbons        Ponder\n",
      "1               Baker             Anne     Stibbons        Ponder\n",
      "2               Baker          Timothy      Farrell        Jemima\n",
      "3              Boothe              Tim       Rownam           Tim\n",
      "4             Butters           Gerald        Smith        Darren\n",
      "5              Coplin             Joan        Baker       Timothy\n",
      "6             Crumpet            Erica        Smith         Tracy\n",
      "7                Dare            Nancy     Joplette        Janice\n",
      "8             Genting          Matthew      Butters        Gerald\n",
      "9                Hunt             John      Purview     Millicent\n",
      "10              Jones            David     Joplette        Janice\n",
      "11              Jones          Douglas        Jones         David\n",
      "12           Joplette           Janice        Smith        Darren\n",
      "13          Mackenzie             Anna        Smith        Darren\n",
      "14               Owen          Charles        Smith        Darren\n",
      "15             Pinker            David      Farrell        Jemima\n",
      "16            Purview        Millicent        Smith         Tracy\n",
      "17             Rumney        Henrietta      Genting       Matthew\n",
      "18             Sarwin        Ramnaresh        Bader      Florence\n",
      "19              Smith             Jack        Smith        Darren\n",
      "20           Stibbons           Ponder        Tracy        Burton\n",
      "21  Worthington-Smyth            Henry        Smith         Tracy\n"
     ]
    }
   ],
   "source": [
    "# Q11: Produce a report of members and who recommended them in alphabetic surname,firstname order.\n",
    "cur.execute('SELECT m1.surname AS member_lastname, m1.firstname AS member_firstname, m2.surname AS rec_lastname, m2.firstname AS rec_firstname FROM Members AS m1 LEFT JOIN Members AS m2 ON m1.recommendedby = m2.memid WHERE m1.recommendedby != 0 ORDER BY m1.surname, m1.firstname;');\n",
    "column_names = [description[0] for description in cur.description]\n",
    "rows = cur.fetchall()\n",
    "query_df2 = pd.DataFrame(rows, columns=column_names)\n",
    "print(query_df2)"
   ]
  },
  {
   "cell_type": "code",
   "execution_count": 4,
   "metadata": {},
   "outputs": [
    {
     "name": "stdout",
     "output_type": "stream",
     "text": [
      "     facility_name  member_usage\n",
      "0       Pool Table           783\n",
      "1    Snooker Table           421\n",
      "2   Massage Room 1           421\n",
      "3     Table Tennis           385\n",
      "4  Badminton Court           344\n",
      "5   Tennis Court 1           308\n",
      "6   Tennis Court 2           276\n",
      "7     Squash Court           195\n",
      "8   Massage Room 2            27\n"
     ]
    }
   ],
   "source": [
    "# Q12: Find the facilities with their usage by member, but not guests.\n",
    "cur.execute('SELECT name AS facility_name, COUNT(memid) AS member_usage FROM Bookings JOIN Facilities ON Bookings.facid = Facilities.facid WHERE memid != 0 GROUP BY name ORDER BY member_usage DESC;')\n",
    "column_names = [description[0] for description in cur.description]\n",
    "rows = cur.fetchall()\n",
    "query_df3 = pd.DataFrame(rows, columns=column_names)\n",
    "print(query_df3)"
   ]
  },
  {
   "cell_type": "code",
   "execution_count": 6,
   "metadata": {},
   "outputs": [
    {
     "name": "stdout",
     "output_type": "stream",
     "text": [
      "          facility  January  February  March  April  May  June  July  August  \\\n",
      "0  Badminton Court        0         0      0      0    0     0     0       0   \n",
      "1   Massage Room 1        0         0      0      0    0     0     0       0   \n",
      "2   Massage Room 2        0         0      0      0    0     0     0       0   \n",
      "3       Pool Table        0         0      0      0    0     0     0       0   \n",
      "4    Snooker Table        0         0      0      0    0     0     0       0   \n",
      "5     Squash Court        0         0      0      0    0     0     0       0   \n",
      "6     Table Tennis        0         0      0      0    0     0     0       0   \n",
      "7   Tennis Court 1        0         0      0      0    0     0     0       0   \n",
      "8   Tennis Court 2        0         0      0      0    0     0     0       0   \n",
      "\n",
      "   September  October  November  December  \n",
      "0          0        0         0         0  \n",
      "1          0        0         0         0  \n",
      "2          0        0         0         0  \n",
      "3          0        0         0         0  \n",
      "4          0        0         0         0  \n",
      "5          0        0         0         0  \n",
      "6          0        0         0         0  \n",
      "7          0        0         0         0  \n",
      "8          0        0         0         0  \n"
     ]
    }
   ],
   "source": [
    "# Q13: Find the facilities usage by month, but not guests.\n",
    "cur.execute(\"SELECT f.name AS facility, SUM(CASE WHEN strftime('%m', b.starttime) = '01' THEN 1 ELSE 0 END) AS January, SUM(CASE WHEN strftime('%m', b.starttime) = '02' THEN 1 ELSE 0 END) AS February, SUM(CASE WHEN strftime('%m', b.starttime) = '03' THEN 1 ELSE 0 END) AS March, SUM(CASE WHEN strftime('%m', b.starttime) = '04' THEN 1 ELSE 0 END) AS April, SUM(CASE WHEN strftime('%m', b.starttime) = '05' THEN 1 ELSE 0 END) AS May, SUM(CASE WHEN strftime('%m', b.starttime) = '06' THEN 1 ELSE 0 END) AS June, SUM(CASE WHEN strftime('%m', b.starttime) = '07' THEN 1 ELSE 0 END) AS July, SUM(CASE WHEN strftime('%m', b.starttime) = '08' THEN 1 ELSE 0 END) AS August, SUM(CASE WHEN strftime('%m', b.starttime) = '09' THEN 1 ELSE 0 END) AS September, SUM(CASE WHEN strftime('%m', b.starttime) = '10' THEN 1 ELSE 0 END) AS October, SUM(CASE WHEN strftime('%m', b.starttime) = '11' THEN 1 ELSE 0 END) AS November, SUM(CASE WHEN strftime('%m', b.starttime) = '12' THEN 1 ELSE 0 END) AS December FROM Bookings AS b INNER JOIN Facilities AS f ON b.facid = f.facid INNER JOIN Members AS m ON b.memid = m.memid WHERE m.firstname NOT LIKE 'GUEST' AND m.surname NOT LIKE 'GUEST' GROUP BY f.name ORDER BY facility\");\n",
    "column_names = [description[0] for description in cur.description]\n",
    "rows = cur.fetchall()\n",
    "query_df5 = pd.DataFrame(rows, columns=column_names)\n",
    "print(query_df5)"
   ]
  }
 ],
 "metadata": {
  "kernelspec": {
   "display_name": "Python 3",
   "language": "python",
   "name": "python3"
  },
  "language_info": {
   "codemirror_mode": {
    "name": "ipython",
    "version": 3
   },
   "file_extension": ".py",
   "mimetype": "text/x-python",
   "name": "python",
   "nbconvert_exporter": "python",
   "pygments_lexer": "ipython3",
   "version": "3.11.0"
  }
 },
 "nbformat": 4,
 "nbformat_minor": 2
}
